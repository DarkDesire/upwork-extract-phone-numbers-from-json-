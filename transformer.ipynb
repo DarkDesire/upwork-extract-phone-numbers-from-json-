{
 "cells": [
  {
   "cell_type": "code",
   "execution_count": null,
   "id": "3eb7f7c0",
   "metadata": {},
   "outputs": [],
   "source": [
    "import json"
   ]
  },
  {
   "cell_type": "code",
   "execution_count": null,
   "id": "1b9c2df3",
   "metadata": {},
   "outputs": [],
   "source": [
    "INPUT_FILE = 'Reonomy_Retail.json'\n",
    "OUTPUT_FILE = './extract-phone-numbers-from-json.xlsx'"
   ]
  },
  {
   "cell_type": "code",
   "execution_count": null,
   "id": "ef96b697",
   "metadata": {},
   "outputs": [],
   "source": [
    "with open(INPUT_FILE, 'r') as file:\n",
    "    data = json.load(file)"
   ]
  },
  {
   "cell_type": "code",
   "execution_count": null,
   "id": "9ae3f7ba",
   "metadata": {},
   "outputs": [],
   "source": [
    "results = []\n",
    "for obj in data:\n",
    "    \n",
    "    persons = []\n",
    "    for person in obj['persons']:\n",
    "        output_obj = {}\n",
    "        output_obj['company_name'] = obj['name']\n",
    "        output_obj['person_name'] = person['name']\n",
    "        \n",
    "        if person.get('emails', None) is not None and len(person['emails'])>0 :\n",
    "            output_obj['email'] = \",\".join([obj['email'] for obj in person['emails']])\n",
    "            \n",
    "        if person.get('phones', None) is not None and len(person['phones'])>0 :\n",
    "            output_obj['phone'] = \",\".join([obj['number'] for obj in person['phones']])\n",
    "        \n",
    "    results.append(output_obj)"
   ]
  },
  {
   "cell_type": "code",
   "execution_count": null,
   "id": "1c4aeada",
   "metadata": {},
   "outputs": [],
   "source": [
    "import pandas as pd # for saving from dataclass into excel format\n",
    "df = pd.DataFrame(results) #converting from results to DataFrame\n",
    "df.to_excel(OUTPUT_FILE, index=False, header=True) #saving dataframe to file"
   ]
  }
 ],
 "metadata": {
  "kernelspec": {
   "display_name": "Python 3 (ipykernel)",
   "language": "python",
   "name": "python3"
  },
  "language_info": {
   "codemirror_mode": {
    "name": "ipython",
    "version": 3
   },
   "file_extension": ".py",
   "mimetype": "text/x-python",
   "name": "python",
   "nbconvert_exporter": "python",
   "pygments_lexer": "ipython3",
   "version": "3.9.6"
  }
 },
 "nbformat": 4,
 "nbformat_minor": 5
}
